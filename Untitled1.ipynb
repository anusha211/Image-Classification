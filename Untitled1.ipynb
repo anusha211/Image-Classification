{
 "cells": [
  {
   "cell_type": "code",
   "execution_count": 2,
   "metadata": {},
   "outputs": [
    {
     "name": "stdout",
     "output_type": "stream",
     "text": [
      "Train on 542 samples, validate on 233 samples\n",
      "Epoch 1/8\n",
      "542/542 [==============================] - 259s 477ms/step - loss: 1.4500 - acc: 0.3524 - val_loss: 0.9514 - val_acc: 0.4249\n",
      "Epoch 2/8\n",
      "542/542 [==============================] - 262s 483ms/step - loss: 0.8246 - acc: 0.6162 - val_loss: 0.6452 - val_acc: 0.6438\n",
      "Epoch 3/8\n",
      "542/542 [==============================] - 261s 482ms/step - loss: 0.7206 - acc: 0.6919 - val_loss: 0.5720 - val_acc: 0.7768\n",
      "Epoch 4/8\n",
      "542/542 [==============================] - 261s 482ms/step - loss: 0.5452 - acc: 0.7749 - val_loss: 0.4932 - val_acc: 0.7811\n",
      "Epoch 5/8\n",
      "542/542 [==============================] - 261s 481ms/step - loss: 0.4058 - acc: 0.8432 - val_loss: 0.3724 - val_acc: 0.8412\n",
      "Epoch 6/8\n",
      "542/542 [==============================] - 259s 479ms/step - loss: 0.3574 - acc: 0.8358 - val_loss: 0.3971 - val_acc: 0.8155\n",
      "Epoch 7/8\n",
      "542/542 [==============================] - 260s 480ms/step - loss: 0.3064 - acc: 0.8801 - val_loss: 0.3814 - val_acc: 0.8412\n",
      "Epoch 8/8\n",
      "542/542 [==============================] - 260s 480ms/step - loss: 0.2053 - acc: 0.9188 - val_loss: 0.4776 - val_acc: 0.8112\n"
     ]
    }
   ],
   "source": [
    "import tensorflow as tf\n",
    "from tensorflow.keras.datasets import cifar10\n",
    "from tensorflow.keras.preprocessing.image import ImageDataGenerator\n",
    "from tensorflow.keras.models import Sequential\n",
    "from tensorflow.keras.layers import Dense, Dropout, Activation, Flatten\n",
    "from tensorflow.keras.layers import Conv2D, MaxPooling2D\n",
    "\n",
    "import pickle\n",
    "\n",
    "pickle_in = open(\"X.pickle\",\"rb\")\n",
    "X = pickle.load(pickle_in)\n",
    "\n",
    "pickle_in = open(\"y.pickle\",\"rb\")\n",
    "y = pickle.load(pickle_in)\n",
    "\n",
    "X = X/255.0\n",
    "\n",
    "model = Sequential()\n",
    "\n",
    "model.add(Conv2D(256, (5, 5), input_shape=X.shape[1:]))\n",
    "model.add(Activation('relu'))\n",
    "model.add(MaxPooling2D(pool_size=(2, 2)))\n",
    "\n",
    "model.add(Conv2D(256, (5, 5)))\n",
    "model.add(Activation('relu'))\n",
    "model.add(MaxPooling2D(pool_size=(2, 2)))\n",
    "\n",
    "model.add(Flatten())  # this converts our 3D feature maps to 1D feature vectors\n",
    "\n",
    "model.add(Dense(64))\n",
    "model.add(Activation('relu'))\n",
    "\n",
    "model.add(Dense(3))\n",
    "model.add(Activation('softmax'))\n",
    "\n",
    "model.compile(loss='sparse_categorical_crossentropy',\n",
    "              optimizer='adam',\n",
    "              metrics=['accuracy'])\n",
    "\n",
    "model.fit(X, y, batch_size=32, epochs=8, validation_split=0.3)\n",
    "\n",
    "model.save('1st-CNN.model')"
   ]
  },
  {
   "cell_type": "code",
   "execution_count": null,
   "metadata": {},
   "outputs": [],
   "source": []
  }
 ],
 "metadata": {
  "kernelspec": {
   "display_name": "Python 3.6(tensorflow)",
   "language": "python",
   "name": "tensorflow"
  },
  "language_info": {
   "codemirror_mode": {
    "name": "ipython",
    "version": 3
   },
   "file_extension": ".py",
   "mimetype": "text/x-python",
   "name": "python",
   "nbconvert_exporter": "python",
   "pygments_lexer": "ipython3",
   "version": "3.6.8"
  }
 },
 "nbformat": 4,
 "nbformat_minor": 2
}
